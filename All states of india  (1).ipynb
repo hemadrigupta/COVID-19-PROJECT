{
 "cells": [
  {
   "cell_type": "code",
   "execution_count": 28,
   "metadata": {},
   "outputs": [],
   "source": [
    "LIST_1_Name_of_States_of_India=['Andaman and Nicobar',\n",
    "'Andhra Pradesh',\n",
    "'Arunachal Pradesh',\n",
    "'Assam',\n",
    "'Bihar',\n",
    "'Chandigarh',\n",
    "'Chhattisgarh',\n",
    "'Dadra and Nagar Haveli Daman and Diu',\n",
    "'Delhi',\n",
    "'Goa',\n",
    "'Gujarat',\n",
    "'Haryana',\n",
    "'Himachal Pradesh',\n",
    "'Jammu and Kashmir',\n",
    "'Jharkhand',\n",
    "'Karnataka',\n",
    "'kerala',\n",
    "'Ladakh',\n",
    "'Lakshadweep',\n",
    "'Madhya Pradesh',\n",
    "'Maharashtra',\n",
    "'Manipur',\n",
    "'Meghalaya',\n",
    "'Mizoram',\n",
    "'Nagaland',\n",
    "'Odisha',\n",
    "'Puducherry',\n",
    "'Punjab',\n",
    "'Rajasthan',\n",
    "'Sikkim',\n",
    "'Tamil Nadu',\n",
    "'Telengana',\n",
    "'Tripura',\n",
    "'Uttar Pradesh',\n",
    "'Uttarakhand',\n",
    "'West Bengal',]\n"
   ]
  },
  {
   "cell_type": "code",
   "execution_count": 29,
   "metadata": {},
   "outputs": [
    {
     "data": {
      "text/plain": [
       "36"
      ]
     },
     "execution_count": 29,
     "metadata": {},
     "output_type": "execute_result"
    }
   ],
   "source": [
    "len(LIST_1_Name_of_States_of_India)"
   ]
  },
  {
   "cell_type": "code",
   "execution_count": 30,
   "metadata": {},
   "outputs": [],
   "source": [
    "LIST_2_Number_of_infected_numbers_in_list_1=[194,\n",
    "40646,\n",
    "609,\n",
    "20646,\n",
    "23589,\n",
    "660,\n",
    "4964,\n",
    "585,\n",
    "120107,\n",
    "3304,\n",
    "46430,\n",
    "24797,\n",
    "1417,\n",
    "12757,\n",
    "4921,\n",
    "55115,\n",
    "11066,\n",
    "1151,\n",
    "0,\n",
    "21081,\n",
    "292589,\n",
    "1800,\n",
    "403,\n",
    "282,\n",
    "956,\n",
    "16110,\n",
    "1832,\n",
    "9442,\n",
    "27789,\n",
    "266,\n",
    "160907,\n",
    "42496,\n",
    "2366,\n",
    "45163,\n",
    "4102,\n",
    "38011,\n",
    "]"
   ]
  },
  {
   "cell_type": "code",
   "execution_count": 31,
   "metadata": {},
   "outputs": [
    {
     "name": "stdout",
     "output_type": "stream",
     "text": [
      "Andaman and Nicobar has 194 number of infected persons\n",
      "Andhra Pradesh has 40646 number of infected persons\n",
      "Arunachal Pradesh has 609 number of infected persons\n",
      "Assam has 20646 number of infected persons\n",
      "Bihar has 23589 number of infected persons\n",
      "Chandigarh has 660 number of infected persons\n",
      "Chhattisgarh has 4964 number of infected persons\n",
      "Dadra and Nagar Haveli Daman and Diu has 585 number of infected persons\n",
      "Delhi has 120107 number of infected persons\n",
      "Goa has 3304 number of infected persons\n",
      "Gujarat has 46430 number of infected persons\n",
      "Haryana has 24797 number of infected persons\n",
      "Himachal Pradesh has 1417 number of infected persons\n",
      "Jammu and Kashmir has 12757 number of infected persons\n",
      "Jharkhand has 4921 number of infected persons\n",
      "Karnataka has 55115 number of infected persons\n",
      "kerala has 11066 number of infected persons\n",
      "Ladakh has 1151 number of infected persons\n",
      "Lakshadweep has 0 number of infected persons\n",
      "Madhya Pradesh has 21081 number of infected persons\n",
      "Maharashtra has 292589 number of infected persons\n",
      "Manipur has 1800 number of infected persons\n",
      "Meghalaya has 403 number of infected persons\n",
      "Mizoram has 282 number of infected persons\n",
      "Nagaland has 956 number of infected persons\n",
      "Odisha has 16110 number of infected persons\n",
      "Puducherry has 1832 number of infected persons\n",
      "Punjab has 9442 number of infected persons\n",
      "Rajasthan has 27789 number of infected persons\n",
      "Sikkim has 266 number of infected persons\n",
      "Tamil Nadu has 160907 number of infected persons\n",
      "Telengana has 42496 number of infected persons\n",
      "Tripura has 2366 number of infected persons\n",
      "Uttar Pradesh has 45163 number of infected persons\n",
      "Uttarakhand has 4102 number of infected persons\n",
      "West Bengal has 38011 number of infected persons\n"
     ]
    }
   ],
   "source": [
    "for i in range (len(LIST_1_Name_of_States_of_India)):\n",
    "    print(\"{} has {} number of infected persons\".format(LIST_1_Name_of_States_of_India[i], LIST_2_Number_of_infected_numbers_in_list_1[i]))\n"
   ]
  },
  {
   "cell_type": "code",
   "execution_count": 32,
   "metadata": {},
   "outputs": [],
   "source": [
    "LIST_3_Numbers_in_Recovered=[142,\n",
    "20298,\n",
    "175,\n",
    "14105,\n",
    "14621,\n",
    "480,\n",
    "3512,\n",
    "401,\n",
    "99301,\n",
    "1946,\n",
    "32973,\n",
    "18718,\n",
    "1024,\n",
    "6558,\n",
    "2570,\n",
    "20757,\n",
    "4995,\n",
    "973,\n",
    "0,\n",
    "14514,\n",
    "160357,\n",
    "1163,\n",
    "66,\n",
    "160,\n",
    "405,\n",
    "11330,\n",
    "1014,\n",
    "6373,\n",
    "20626,\n",
    "90,\n",
    "110807,\n",
    "28705,\n",
    "1684,\n",
    "27634,\n",
    "3021,\n",
    "22253,\n",
    "]\n"
   ]
  },
  {
   "cell_type": "code",
   "execution_count": 33,
   "metadata": {},
   "outputs": [
    {
     "name": "stdout",
     "output_type": "stream",
     "text": [
      "(Name_of_States_of_India, Numbers_in_Recovered)\n",
      "('Andaman and Nicobar', 142)\n",
      "('Andhra Pradesh', 20298)\n",
      "('Arunachal Pradesh', 175)\n",
      "('Assam', 14105)\n",
      "('Bihar', 14621)\n",
      "('Chandigarh', 480)\n",
      "('Chhattisgarh', 3512)\n",
      "('Dadra and Nagar Haveli Daman and Diu', 401)\n",
      "('Delhi', 99301)\n",
      "('Goa', 1946)\n",
      "('Gujarat', 32973)\n",
      "('Haryana', 18718)\n",
      "('Himachal Pradesh', 1024)\n",
      "('Jammu and Kashmir', 6558)\n",
      "('Jharkhand', 2570)\n",
      "('Karnataka', 20757)\n",
      "('kerala', 4995)\n",
      "('Ladakh', 973)\n",
      "('Lakshadweep', 0)\n",
      "('Madhya Pradesh', 14514)\n",
      "('Maharashtra', 160357)\n",
      "('Manipur', 1163)\n",
      "('Meghalaya', 66)\n",
      "('Mizoram', 160)\n",
      "('Nagaland', 405)\n",
      "('Odisha', 11330)\n",
      "('Puducherry', 1014)\n",
      "('Punjab', 6373)\n",
      "('Rajasthan', 20626)\n",
      "('Sikkim', 90)\n",
      "('Tamil Nadu', 110807)\n",
      "('Telengana', 28705)\n",
      "('Tripura', 1684)\n",
      "('Uttar Pradesh', 27634)\n",
      "('Uttarakhand', 3021)\n",
      "('West Bengal', 22253)\n"
     ]
    }
   ],
   "source": [
    "print(\"(Name_of_States_of_India, Numbers_in_Recovered)\")\n",
    "for i in range(len(LIST_1_Name_of_States_of_India)):\n",
    "    LIST_4_RECOVERED_IN_EACH_STATE=[(LIST_1_Name_of_States_of_India[i],LIST_3_Numbers_in_Recovered[i])]\n",
    "    for i in LIST_4_RECOVERED_IN_EACH_STATE:\n",
    "        print(i)"
   ]
  },
  {
   "cell_type": "code",
   "execution_count": 34,
   "metadata": {},
   "outputs": [
    {
     "name": "stdout",
     "output_type": "stream",
     "text": [
      "Andaman and Nicobar\n",
      "Andhra Pradesh\n",
      "Arunachal Pradesh\n",
      "Assam\n",
      "Bihar\n",
      "Chandigarh\n",
      "Chhattisgarh\n",
      "Dadra and Nagar Haveli Daman and Diu\n",
      "Delhi\n",
      "Goa\n",
      "Gujarat\n",
      "Haryana\n",
      "Himachal Pradesh\n",
      "Jammu and Kashmir\n",
      "Jharkhand\n",
      "Karnataka\n",
      "kerala\n",
      "Ladakh\n",
      "Lakshadweep\n",
      "Madhya Pradesh\n",
      "Maharashtra\n",
      "Manipur\n",
      "Meghalaya\n",
      "Mizoram\n",
      "Nagaland\n",
      "Odisha\n",
      "Puducherry\n",
      "Punjab\n",
      "Rajasthan\n",
      "Sikkim\n",
      "Tamil Nadu\n",
      "Telengana\n",
      "Tripura\n",
      "Uttar Pradesh\n",
      "Uttarakhand\n",
      "West Bengal\n"
     ]
    }
   ],
   "source": [
    "for i in range(len(LIST_1_Name_of_States_of_India)):\n",
    "    STATE_INFECTED={LIST_1_Name_of_States_of_India[i]:LIST_2_Number_of_infected_numbers_in_list_1[i]}\n",
    "    for item in STATE_INFECTED:\n",
    "        print(item)\n",
    "        STATE_INFECTED.items"
   ]
  },
  {
   "cell_type": "code",
   "execution_count": 35,
   "metadata": {},
   "outputs": [
    {
     "data": {
      "text/plain": [
       "dict_items([('West Bengal', 38011)])"
      ]
     },
     "execution_count": 35,
     "metadata": {},
     "output_type": "execute_result"
    }
   ],
   "source": [
    "STATE_INFECTED.items()"
   ]
  },
  {
   "cell_type": "code",
   "execution_count": 36,
   "metadata": {},
   "outputs": [
    {
     "name": "stdout",
     "output_type": "stream",
     "text": [
      "West Bengal 38011\n"
     ]
    }
   ],
   "source": [
    "for k,v in STATE_INFECTED.items():\n",
    "    print(k,v)\n"
   ]
  },
  {
   "cell_type": "code",
   "execution_count": 37,
   "metadata": {},
   "outputs": [],
   "source": [
    "STATE_DICTIONARY={'Andaman and Nicobar':142,\n",
    "'Andhra Pradesh': 20298,\n",
    "'Arunachal Pradesh': 175,\n",
    "'Assam': 14105,\n",
    "'Bihar':14621,\n",
    "'Chandigarh': 480,\n",
    "'Chhattisgarh':3512,\n",
    "'Dadra and Nagar Haveli': 401,\n",
    "'Daman and Diu': 0,\n",
    "'Delhi': 99301,\n",
    "'Goa':1946,\n",
    "'Gujarat': 32973,\n",
    "'Haryana':18718,\n",
    "'Himachal Pradesh': 1024,\n",
    "'Jammu and Kashmir': 6558,\n",
    "'Jharkhand': 2570,\n",
    "'Karnataka': 20757,\n",
    "'kerala': 4995,\n",
    "'Ladakh':973,\n",
    "'Lakshadweep': 0,\n",
    "'Madhya Pradesh': 14514,\n",
    "'Maharashtra': 160357,\n",
    "'Manipur': 1163,\n",
    "'Meghalaya': 66,\n",
    "'Mizoram':160,\n",
    "'Nagaland': 405,\n",
    "'Odisha':11330,\n",
    "'Puducherry': 1014,\n",
    "'Punjab': 6373,\n",
    "'Rajasthan': 20626,\n",
    "'Sikkim': 90,\n",
    "'Tamil Nadu': 110807,\n",
    "'Telengana': 28705,\n",
    "'Tripura': 1684,\n",
    "'Uttar Pradesh':27634,\n",
    "'Uttarakhand': 3021,\n",
    "'West Bengal': 22253,}"
   ]
  },
  {
   "cell_type": "code",
   "execution_count": 38,
   "metadata": {},
   "outputs": [
    {
     "data": {
      "text/plain": [
       "dict_items([('Andaman and Nicobar', 142), ('Andhra Pradesh', 20298), ('Arunachal Pradesh', 175), ('Assam', 14105), ('Bihar', 14621), ('Chandigarh', 480), ('Chhattisgarh', 3512), ('Dadra and Nagar Haveli', 401), ('Daman and Diu', 0), ('Delhi', 99301), ('Goa', 1946), ('Gujarat', 32973), ('Haryana', 18718), ('Himachal Pradesh', 1024), ('Jammu and Kashmir', 6558), ('Jharkhand', 2570), ('Karnataka', 20757), ('kerala', 4995), ('Ladakh', 973), ('Lakshadweep', 0), ('Madhya Pradesh', 14514), ('Maharashtra', 160357), ('Manipur', 1163), ('Meghalaya', 66), ('Mizoram', 160), ('Nagaland', 405), ('Odisha', 11330), ('Puducherry', 1014), ('Punjab', 6373), ('Rajasthan', 20626), ('Sikkim', 90), ('Tamil Nadu', 110807), ('Telengana', 28705), ('Tripura', 1684), ('Uttar Pradesh', 27634), ('Uttarakhand', 3021), ('West Bengal', 22253)])"
      ]
     },
     "execution_count": 38,
     "metadata": {},
     "output_type": "execute_result"
    }
   ],
   "source": [
    "STATE_DICTIONARY.items()"
   ]
  },
  {
   "cell_type": "code",
   "execution_count": 39,
   "metadata": {},
   "outputs": [
    {
     "name": "stdout",
     "output_type": "stream",
     "text": [
      "Andaman and Nicobar 142\n",
      "Andhra Pradesh 20298\n",
      "Arunachal Pradesh 175\n",
      "Assam 14105\n",
      "Bihar 14621\n",
      "Chandigarh 480\n",
      "Chhattisgarh 3512\n",
      "Dadra and Nagar Haveli 401\n",
      "Daman and Diu 0\n",
      "Delhi 99301\n",
      "Goa 1946\n",
      "Gujarat 32973\n",
      "Haryana 18718\n",
      "Himachal Pradesh 1024\n",
      "Jammu and Kashmir 6558\n",
      "Jharkhand 2570\n",
      "Karnataka 20757\n",
      "kerala 4995\n",
      "Ladakh 973\n",
      "Lakshadweep 0\n",
      "Madhya Pradesh 14514\n",
      "Maharashtra 160357\n",
      "Manipur 1163\n",
      "Meghalaya 66\n",
      "Mizoram 160\n",
      "Nagaland 405\n",
      "Odisha 11330\n",
      "Puducherry 1014\n",
      "Punjab 6373\n",
      "Rajasthan 20626\n",
      "Sikkim 90\n",
      "Tamil Nadu 110807\n",
      "Telengana 28705\n",
      "Tripura 1684\n",
      "Uttar Pradesh 27634\n",
      "Uttarakhand 3021\n",
      "West Bengal 22253\n"
     ]
    }
   ],
   "source": [
    "for k,v in STATE_DICTIONARY.items():\n",
    "    print(k,v)\n"
   ]
  },
  {
   "cell_type": "code",
   "execution_count": 40,
   "metadata": {},
   "outputs": [],
   "source": [
    "LIST_DEATHS = [0,\n",
    "534,\n",
    "3,\n",
    "51,\n",
    "201,\n",
    "11,\n",
    "23,\n",
    "2,\n",
    "3571,\n",
    "21,\n",
    "2106,\n",
    "327,\n",
    "11,\n",
    "231,\n",
    "46,\n",
    "1147,\n",
    "38,\n",
    "1,\n",
    "0,\n",
    "697,\n",
    "11452,\n",
    "0,\n",
    "2,\n",
    "0,\n",
    "0,\n",
    "83,\n",
    "25,\n",
    "239,\n",
    "546,\n",
    "0,\n",
    "2315,\n",
    "403,\n",
    "3,\n",
    "1084,\n",
    "51,\n",
    "1049,\n",
    "]"
   ]
  },
  {
   "cell_type": "code",
   "execution_count": 41,
   "metadata": {},
   "outputs": [
    {
     "name": "stdout",
     "output_type": "stream",
     "text": [
      "name of states,number of recovered,number of deaths\n",
      "('Andaman and Nicobar', 142, 0)\n",
      "('Andhra Pradesh', 20298, 534)\n",
      "('Arunachal Pradesh', 175, 3)\n",
      "('Assam', 14105, 51)\n",
      "('Bihar', 14621, 201)\n",
      "('Chandigarh', 480, 11)\n",
      "('Chhattisgarh', 3512, 23)\n",
      "('Dadra and Nagar Haveli Daman and Diu', 401, 2)\n",
      "('Delhi', 99301, 3571)\n",
      "('Goa', 1946, 21)\n",
      "('Gujarat', 32973, 2106)\n",
      "('Haryana', 18718, 327)\n",
      "('Himachal Pradesh', 1024, 11)\n",
      "('Jammu and Kashmir', 6558, 231)\n",
      "('Jharkhand', 2570, 46)\n",
      "('Karnataka', 20757, 1147)\n",
      "('kerala', 4995, 38)\n",
      "('Ladakh', 973, 1)\n",
      "('Lakshadweep', 0, 0)\n",
      "('Madhya Pradesh', 14514, 697)\n",
      "('Maharashtra', 160357, 11452)\n",
      "('Manipur', 1163, 0)\n",
      "('Meghalaya', 66, 2)\n",
      "('Mizoram', 160, 0)\n",
      "('Nagaland', 405, 0)\n",
      "('Odisha', 11330, 83)\n",
      "('Puducherry', 1014, 25)\n",
      "('Punjab', 6373, 239)\n",
      "('Rajasthan', 20626, 546)\n",
      "('Sikkim', 90, 0)\n",
      "('Tamil Nadu', 110807, 2315)\n",
      "('Telengana', 28705, 403)\n",
      "('Tripura', 1684, 3)\n",
      "('Uttar Pradesh', 27634, 1084)\n",
      "('Uttarakhand', 3021, 51)\n",
      "('West Bengal', 22253, 1049)\n"
     ]
    }
   ],
   "source": [
    "print(\"name of states,number of recovered,number of deaths\")\n",
    "for i in range(len(LIST_1_Name_of_States_of_India)):\n",
    "    LIST_STATE_RECOVERD_DEATHS = [ (LIST_1_Name_of_States_of_India[i],LIST_3_Numbers_in_Recovered[i],LIST_DEATHS[i])]\n",
    "    for i in (LIST_STATE_RECOVERD_DEATHS):\n",
    "        print(i)"
   ]
  },
  {
   "cell_type": "code",
   "execution_count": 42,
   "metadata": {},
   "outputs": [],
   "source": [
    "import sys\n",
    "def IFR(infected,deaths):\n",
    "    try:\n",
    "        ifr=(deaths/infected)*100\n",
    "    except ZeroDivisionError:\n",
    "        print(\"divide by zero\")\n",
    "    else:\n",
    "        print(\"The IFR ={}%\".format(ifr))\n"
   ]
  },
  {
   "cell_type": "code",
   "execution_count": 43,
   "metadata": {},
   "outputs": [
    {
     "name": "stdout",
     "output_type": "stream",
     "text": [
      "Andaman and Nicobar\n",
      "The IFR =0.0%\n",
      "Andhra Pradesh\n",
      "The IFR =1.3137824140136791%\n",
      "Arunachal Pradesh\n",
      "The IFR =0.49261083743842365%\n",
      "Assam\n",
      "The IFR =0.24702121476315023%\n",
      "Bihar\n",
      "The IFR =0.8520920768154648%\n",
      "Chandigarh\n",
      "The IFR =1.6666666666666667%\n",
      "Chhattisgarh\n",
      "The IFR =0.46333601933924257%\n",
      "Dadra and Nagar Haveli Daman and Diu\n",
      "The IFR =0.3418803418803419%\n",
      "Delhi\n",
      "The IFR =2.9731822458308006%\n",
      "Goa\n",
      "The IFR =0.6355932203389831%\n",
      "Gujarat\n",
      "The IFR =4.535860435063537%\n",
      "Haryana\n",
      "The IFR =1.3187079082147033%\n",
      "Himachal Pradesh\n",
      "The IFR =0.776287932251235%\n",
      "Jammu and Kashmir\n",
      "The IFR =1.8107705573410675%\n",
      "Jharkhand\n",
      "The IFR =0.9347693558219874%\n",
      "Karnataka\n",
      "The IFR =2.0811031479633493%\n",
      "kerala\n",
      "The IFR =0.34339418037231156%\n",
      "Ladakh\n",
      "The IFR =0.08688097306689835%\n",
      "Lakshadweep\n",
      "divide by zero\n",
      "Madhya Pradesh\n",
      "The IFR =3.3062947678003893%\n",
      "Maharashtra\n",
      "The IFR =3.9140227417982216%\n",
      "Manipur\n",
      "The IFR =0.0%\n",
      "Meghalaya\n",
      "The IFR =0.49627791563275436%\n",
      "Mizoram\n",
      "The IFR =0.0%\n",
      "Nagaland\n",
      "The IFR =0.0%\n",
      "Odisha\n",
      "The IFR =0.5152079453755432%\n",
      "Puducherry\n",
      "The IFR =1.3646288209606987%\n",
      "Punjab\n",
      "The IFR =2.5312433806396952%\n",
      "Rajasthan\n",
      "The IFR =1.9648062182878117%\n",
      "Sikkim\n",
      "The IFR =0.0%\n",
      "Tamil Nadu\n",
      "The IFR =1.4387192601937766%\n",
      "Telengana\n",
      "The IFR =0.9483245481927711%\n",
      "Tripura\n",
      "The IFR =0.12679628064243448%\n",
      "Uttar Pradesh\n",
      "The IFR =2.4001948497664016%\n",
      "Uttarakhand\n",
      "The IFR =1.2432959531935641%\n",
      "West Bengal\n",
      "The IFR =2.7597274473178817%\n"
     ]
    }
   ],
   "source": [
    "for i in range(len(LIST_1_Name_of_States_of_India)):\n",
    "    print(LIST_1_Name_of_States_of_India[i])\n",
    "    IFR(LIST_2_Number_of_infected_numbers_in_list_1[i],LIST_DEATHS[i])"
   ]
  },
  {
   "cell_type": "code",
   "execution_count": 44,
   "metadata": {},
   "outputs": [],
   "source": [
    "TOTAL_POPULATION_PER_STATE=[380581,\n",
    "49577103,\n",
    "1383727,\n",
    "31205576,\n",
    "104099452,\n",
    "1055450,\n",
    "25545198,\n",
    "585764,\n",
    "16787941,\n",
    "1458545,\n",
    "60439692,\n",
    "25351462,\n",
    "6864602,\n",
    "12267032,\n",
    "32988134,\n",
    "61095297,\n",
    "33406061,\n",
    "274000,\n",
    "64473,\n",
    "72626809,\n",
    "112374333,\n",
    "2570390,\n",
    "2,966,889,\n",
    "1097206,\n",
    "1978502,\n",
    "41974219,\n",
    "1247953,\n",
    "27743338,\n",
    "68548437,\n",
    "610577,\n",
    "72147030,\n",
    "35003674,\n",
    "367397,\n",
    "199812341,\n",
    "10086292,\n",
    "91276115,\n",
    "\n",
    "]"
   ]
  },
  {
   "cell_type": "code",
   "execution_count": 45,
   "metadata": {},
   "outputs": [],
   "source": [
    "def CMR(deaths,total_poppulation):\n",
    "    CMR=(deaths/total_poppulation)*100000\n",
    "    print(\"The Crude Mortality Rate ={}%\".format(CMR))"
   ]
  },
  {
   "cell_type": "code",
   "execution_count": 46,
   "metadata": {},
   "outputs": [
    {
     "name": "stdout",
     "output_type": "stream",
     "text": [
      "Andaman and Nicobar\n",
      "The Crude Mortality Rate =0.0%\n",
      "Andhra Pradesh\n",
      "The Crude Mortality Rate =1.0771101328772679%\n",
      "Arunachal Pradesh\n",
      "The Crude Mortality Rate =0.2168057716587159%\n",
      "Assam\n",
      "The Crude Mortality Rate =0.16343233017073616%\n",
      "Bihar\n",
      "The Crude Mortality Rate =0.19308458991695746%\n",
      "Chandigarh\n",
      "The Crude Mortality Rate =1.0422094841063054%\n",
      "Chhattisgarh\n",
      "The Crude Mortality Rate =0.0900364913985008%\n",
      "Dadra and Nagar Haveli Daman and Diu\n",
      "The Crude Mortality Rate =0.34143443434557263%\n",
      "Delhi\n",
      "The Crude Mortality Rate =21.271220812605904%\n",
      "Goa\n",
      "The Crude Mortality Rate =1.4397910246169985%\n",
      "Gujarat\n",
      "The Crude Mortality Rate =3.4844651425424202%\n",
      "Haryana\n",
      "The Crude Mortality Rate =1.289866438472069%\n",
      "Himachal Pradesh\n",
      "The Crude Mortality Rate =0.16024235636676387%\n",
      "Jammu and Kashmir\n",
      "The Crude Mortality Rate =1.8830960903990468%\n",
      "Jharkhand\n",
      "The Crude Mortality Rate =0.13944408010468248%\n",
      "Karnataka\n",
      "The Crude Mortality Rate =1.8773949163386503%\n",
      "kerala\n",
      "The Crude Mortality Rate =0.11375181288209946%\n",
      "Ladakh\n",
      "The Crude Mortality Rate =0.36496350364963503%\n",
      "Lakshadweep\n",
      "The Crude Mortality Rate =0.0%\n",
      "Madhya Pradesh\n",
      "The Crude Mortality Rate =0.9597007077648144%\n",
      "Maharashtra\n",
      "The Crude Mortality Rate =10.190939242326804%\n",
      "Manipur\n",
      "The Crude Mortality Rate =0.0%\n",
      "Meghalaya\n",
      "The Crude Mortality Rate =100000.0%\n",
      "Mizoram\n",
      "The Crude Mortality Rate =0.0%\n",
      "Nagaland\n",
      "The Crude Mortality Rate =0.0%\n",
      "Odisha\n",
      "The Crude Mortality Rate =7.5646688042172565%\n",
      "Puducherry\n",
      "The Crude Mortality Rate =1.2635822455574974%\n",
      "Punjab\n",
      "The Crude Mortality Rate =0.5693971339883656%\n",
      "Rajasthan\n",
      "The Crude Mortality Rate =43.75164769827069%\n",
      "Sikkim\n",
      "The Crude Mortality Rate =0.0%\n",
      "Tamil Nadu\n",
      "The Crude Mortality Rate =3.3771740120055544%\n",
      "Telengana\n",
      "The Crude Mortality Rate =66.00314129094282%\n",
      "Tripura\n",
      "The Crude Mortality Rate =0.004158175326136086%\n",
      "Uttar Pradesh\n",
      "The Crude Mortality Rate =3.0968177797564906%\n",
      "Uttarakhand\n",
      "The Crude Mortality Rate =13.881441601319553%\n",
      "West Bengal\n",
      "The Crude Mortality Rate =0.5249925979296745%\n"
     ]
    }
   ],
   "source": [
    "for i in range (len(LIST_1_Name_of_States_of_India)):\n",
    "    print(LIST_1_Name_of_States_of_India[i])\n",
    "    CMR(LIST_DEATHS[i],TOTAL_POPULATION_PER_STATE[i])"
   ]
  },
  {
   "cell_type": "code",
   "execution_count": 47,
   "metadata": {},
   "outputs": [],
   "source": [
    "LIST_ACTIVE= [52,\n",
    "19814,\n",
    "431,\n",
    "6490,\n",
    "8767,\n",
    "169,\n",
    "1429,\n",
    "182,\n",
    "17235,\n",
    "1337,\n",
    "11351,\n",
    "5752,\n",
    "382,\n",
    "5968,\n",
    "2305,\n",
    "33211,\n",
    "6033,\n",
    "177,\n",
    "0,\n",
    "5870,\n",
    "120780,\n",
    "637,\n",
    "335,\n",
    "122,\n",
    "551,\n",
    "4697,\n",
    "793,\n",
    "2830,\n",
    "6617,\n",
    "176,\n",
    "47785,\n",
    "13388,\n",
    "679,\n",
    "16445,\n",
    "1030,\n",
    "14709\n",
    "]"
   ]
  },
  {
   "cell_type": "code",
   "execution_count": 48,
   "metadata": {},
   "outputs": [
    {
     "data": {
      "text/plain": [
       "36"
      ]
     },
     "execution_count": 48,
     "metadata": {},
     "output_type": "execute_result"
    }
   ],
   "source": [
    "len(LIST_ACTIVE)"
   ]
  },
  {
   "cell_type": "code",
   "execution_count": 49,
   "metadata": {},
   "outputs": [],
   "source": [
    "for i in range(len(LIST_DEATHS)):\n",
    "    data_states_infected = [(LIST_DEATHS[i],LIST_ACTIVE[i],LIST_3_Numbers_in_Recovered[i])]"
   ]
  },
  {
   "cell_type": "code",
   "execution_count": 50,
   "metadata": {},
   "outputs": [],
   "source": [
    "TOTAL_INFECTED=[]\n",
    "for i in range(len(LIST_DEATHS)):\n",
    "    TOTAL_INFECTED = LIST_DEATHS+LIST_ACTIVE+LIST_3_Numbers_in_Recovered"
   ]
  },
  {
   "cell_type": "code",
   "execution_count": 51,
   "metadata": {},
   "outputs": [
    {
     "name": "stdout",
     "output_type": "stream",
     "text": [
      "False\n"
     ]
    }
   ],
   "source": [
    "print(LIST_2_Number_of_infected_numbers_in_list_1==TOTAL_INFECTED)\n"
   ]
  },
  {
   "cell_type": "code",
   "execution_count": 52,
   "metadata": {},
   "outputs": [],
   "source": [
    "TOTAL_INFECTED=[LIST_DEATHS[i]+LIST_ACTIVE[i]+LIST_3_Numbers_in_Recovered[i] for i in range(len(LIST_DEATHS))]\n"
   ]
  },
  {
   "cell_type": "code",
   "execution_count": 53,
   "metadata": {},
   "outputs": [
    {
     "name": "stdout",
     "output_type": "stream",
     "text": [
      "True\n"
     ]
    }
   ],
   "source": [
    "print(LIST_2_Number_of_infected_numbers_in_list_1==TOTAL_INFECTED)"
   ]
  },
  {
   "cell_type": "code",
   "execution_count": null,
   "metadata": {},
   "outputs": [],
   "source": []
  }
 ],
 "metadata": {
  "kernelspec": {
   "display_name": "Python 3",
   "language": "python",
   "name": "python3"
  },
  "language_info": {
   "codemirror_mode": {
    "name": "ipython",
    "version": 3
   },
   "file_extension": ".py",
   "mimetype": "text/x-python",
   "name": "python",
   "nbconvert_exporter": "python",
   "pygments_lexer": "ipython3",
   "version": "3.7.6"
  }
 },
 "nbformat": 4,
 "nbformat_minor": 4
}
