{
 "cells": [
  {
   "cell_type": "code",
   "execution_count": 1,
   "metadata": {},
   "outputs": [],
   "source": [
    "from  tkinter import *\n",
    "from PIL import ImageTk, Image\n",
    "\n",
    "from tkinter.ttk import Combobox\n",
    "from tkinter import messagebox as mbox\n",
    "from csv import reader"
   ]
  },
  {
   "cell_type": "code",
   "execution_count": 2,
   "metadata": {},
   "outputs": [],
   "source": [
    "tkt=Tk()\n",
    "tkt.geometry(\"600x600\")\n",
    "img = Image.open(\"corona.png\")\n",
    "photo = ImageTk.PhotoImage(img)\n",
    "Label(tkt,image=photo,bg='snow',bd=0).pack()"
   ]
  },
  {
   "cell_type": "code",
   "execution_count": 3,
   "metadata": {},
   "outputs": [
    {
     "data": {
      "text/plain": [
       "''"
      ]
     },
     "execution_count": 3,
     "metadata": {},
     "output_type": "execute_result"
    }
   ],
   "source": [
    "tkt.title('PANDEMIC ANAYLSER CALCULATOR')"
   ]
  },
  {
   "cell_type": "code",
   "execution_count": 4,
   "metadata": {},
   "outputs": [],
   "source": [
    "with open(\"states_data.csv\",'r') as object:\n",
    "    data=reader(object)\n",
    "    list_of_rows=list(data)"
   ]
  },
  {
   "cell_type": "code",
   "execution_count": 5,
   "metadata": {},
   "outputs": [],
   "source": [
    "lbl1=Label(tkt, text=\"NAME OF STATE\", bg='snow',fg='black', font=(\"arial\", 16)) #fg = font color\n",
    "lbl1.place(x=0, y=30)\n",
    "\n",
    "Confirmed=Entry()\n",
    "Confirmed.place(x=200, y=60,width=150,height=30)\n",
    "\n",
    "lbl2=Label(tkt, text=\"Confirmed cases\", bg='snow',fg='black', font=(\"arial\", 16)) #fg = font color\n",
    "lbl2.place(x=0, y=60)\n",
    "\n",
    "Recovered=Entry()\n",
    "Recovered.place(x=200, y=90,width=150,height=30)\n",
    "\n",
    "lbl3=Label(tkt, text=\"Recovered cases\", bg='snow',fg='black', font=(\"arial\", 16)) #fg = font color\n",
    "lbl3.place(x=0, y=90)\n",
    "\n",
    "Active=Entry()\n",
    "Active.place(x=200, y=120,width=150,height=30)\n",
    "\n",
    "lbl4=Label(tkt, text=\"Active cases:\",bg='snow', fg='black', font=(\"arial\", 16))\n",
    "lbl4.place(x=0, y=120)\n",
    "\n",
    "Population=Entry()\n",
    "Population.place(x=200, y=150,width=150,height=30)\n",
    "\n",
    "lbl4=Label(tkt, text=\"Population of state:\", bg='snow',fg='black', font=(\"arial\", 16))\n",
    "lbl4.place(x=0, y=150)"
   ]
  },
  {
   "cell_type": "code",
   "execution_count": 6,
   "metadata": {},
   "outputs": [],
   "source": [
    "data1=[] \n",
    "data2=[] \n",
    "\n",
    "for i in range(len(list_of_rows)):\n",
    "    data1.append(list_of_rows[i])\n",
    "    data2.append(data1[i][0])"
   ]
  },
  {
   "cell_type": "code",
   "execution_count": 7,
   "metadata": {},
   "outputs": [
    {
     "name": "stdout",
     "output_type": "stream",
     "text": [
      "[['State', 'Confirmed', 'Recovered', 'Active', 'Population'], ['Andaman and Nicobar Islands', '212', '159', '52', '380581'], ['Andhra Pradesh', '58668', '25574', '32336', '49386799'], ['Arunachal Pradesh', '858', '303', '552', '1383727'], ['Assam', '26773', '18034', '8667', '31205576'], ['Bihar', '28564', '18741', '9624', '104099452'], ['Chandigarh', '751', '518', '221', '1055450'], ['Chhattisgarh', '5731', '4114', '1588', '25545198'], ['Dadra and Nagar Haveli and Daman and Diu', '739', '475', '252', '343709'], ['Delhi', '125096', '106118', '15288', '243247'], ['Goa', '4027', '2449', '1552', '16787941'], ['Gujarat', '50465', '36504', '11761', '1458545'], ['Haryana', '27462', '20952', '6146', '60439692'], ['Himachal Pradesh', '1664', '1077', '561', '25351462'], ['Jammu and Kashmir', '15258', '8455', '6540', '6864602'], ['Jharkhand', '6195', '2942', '3192', '12541302'], ['Karnataka', '71069', '25460', '44136', '32988134'], ['Kerala', '13995', '5890', '8056', '61095297'], ['Ladakh', '1198', '1010', '186', '33406061'], ['Lakshadweep', '0', '0', '0', '64473'], ['Madhya Pradesh', '24095', '16257', '7082', '72626809'], ['Maharashtra', '327031', '182217', '132236', '112374333'], ['Manipur', '2015', '1384', '631', '2855794'], ['Meghalaya', '490', '70', '416', '2966889'], ['Mizoram', '317', '168', '149', '1097206'], ['Nagaland', '1087', '485', '602', '1978502'], ['Odisha', '19835', '13310', '6392', '41974218'], ['Puducherry', '2300', '1369', '900', '1247953'], ['Punjab', '10889', '7389', '3237', '27743338'], ['Rajasthan', '31373', '22744', '8052', '68548437'], ['Sikkim', '343', '108', '222', '610577'], ['Tamil Nadu', '180643', '126670', '51347', '72147030'], ['Telangana', '47704', '36385', '10890', '35193978'], ['Tripura', '3347', '1926', '1399', '3673917'], ['Uttar Pradesh', '53288', '31855', '20204', '199812341'], ['Uttarakhand', '4849', '3297', '1459', '10086292'], ['West Bengal', '47030', '28035', '17813', '91276115'], ['Andaman and Nicobar Islands', '212', '159', '52', '380581']]\n",
      "NEXT DATA 2\n",
      "['State', 'Andaman and Nicobar Islands', 'Andhra Pradesh', 'Arunachal Pradesh', 'Assam', 'Bihar', 'Chandigarh', 'Chhattisgarh', 'Dadra and Nagar Haveli and Daman and Diu', 'Delhi', 'Goa', 'Gujarat', 'Haryana', 'Himachal Pradesh', 'Jammu and Kashmir', 'Jharkhand', 'Karnataka', 'Kerala', 'Ladakh', 'Lakshadweep', 'Madhya Pradesh', 'Maharashtra', 'Manipur', 'Meghalaya', 'Mizoram', 'Nagaland', 'Odisha', 'Puducherry', 'Punjab', 'Rajasthan', 'Sikkim', 'Tamil Nadu', 'Telangana', 'Tripura', 'Uttar Pradesh', 'Uttarakhand', 'West Bengal', 'Andaman and Nicobar Islands']\n"
     ]
    }
   ],
   "source": [
    "data1.append(list_of_rows[1])\n",
    "print(data1)\n",
    "print(\"NEXT DATA 2\")\n",
    "data2.append(data1[1][0])\n",
    "print(data2)"
   ]
  },
  {
   "cell_type": "code",
   "execution_count": 8,
   "metadata": {},
   "outputs": [],
   "source": [
    "def enable_items():\n",
    "   \n",
    "    Confirmed.configure(state='normal')  \n",
    "    Recovered.configure(state='normal')\n",
    "    Active.configure(state='normal')\n",
    "    Population.configure(state='normal')\n",
    "    \n",
    " \n",
    "    Confirmed.delete(0, 'end')\n",
    "    Recovered.delete(0, 'end')\n",
    "    Active.delete(0, 'end')\n",
    "    Population.delete(0, 'end')  \n",
    "    \n",
    "    \n",
    "    Deaths.configure(state='normal')\n",
    "    Deaths.delete(0, 'end')\n",
    "    \n",
    "    CMR.configure(state='normal')\n",
    "    CMR.delete(0, 'end')\n",
    "    \n",
    "    IFR.configure(state='normal')\n",
    "    IFR.delete(0,'end')\n"
   ]
  },
  {
   "cell_type": "code",
   "execution_count": 9,
   "metadata": {},
   "outputs": [],
   "source": [
    "def on_Data_changed():\n",
    "    #print(data1)\n",
    "    enable_items()\n",
    "    for i in range(len(data1)):\n",
    "            #print(data1)\n",
    "    \n",
    "            dat=data1[i][0]\n",
    "            if cb.get()==dat:\n",
    "               \n",
    "                Confirmed.insert(END, data1[i][1])\n",
    "                Recovered.insert(END, data1[i][2])\n",
    "                Active.insert(END, data1[i][3])\n",
    "                Population.insert(END, data1[i][4])\n",
    "                \n",
    "                \n",
    "                \n",
    "              \n",
    "                Confirmed.configure(state='disabled')\n",
    "                Recovered.configure(state='disabled')\n",
    "                Active.configure(state='disabled')\n",
    "                Population.configure(state='disabled')"
   ]
  },
  {
   "cell_type": "code",
   "execution_count": 10,
   "metadata": {},
   "outputs": [],
   "source": [
    "cb=Combobox(tkt,values=data2)    \n",
    "cb.place(x=250, y=30,width=150,height=30)\n",
    "\n",
    "clk = Button(tkt, text='Click',bg=\"snow\",fg=\"red\",command=on_Data_changed) #CREATE BUTTON APON CLICKING\n",
    "clk.place(x=400, y=30,height=30)"
   ]
  },
  {
   "cell_type": "code",
   "execution_count": 11,
   "metadata": {},
   "outputs": [],
   "source": [
    "def CALCULATE_DEATHS():\n",
    "    ConfirmedCase=int(Confirmed.get())\n",
    "    RecoveredCase=int(Recovered.get())\n",
    "    ActiveCase= int(Active.get())\n",
    "    \n",
    "    NO_OF_DEATHS=ConfirmedCase-(RecoveredCase+ActiveCase)\n",
    "    Deaths.insert(END, str(NO_OF_DEATHS))\n",
    "    Deaths.configure(state='disabled')"
   ]
  },
  {
   "cell_type": "code",
   "execution_count": 12,
   "metadata": {},
   "outputs": [],
   "source": [
    "\n",
    "def Cmr():\n",
    "    Death=int(Deaths.get())\n",
    "    population_OF_STATE=int(Population.get())\n",
    "    \n",
    "    \n",
    "    CMR_CALCULATED= ((Death/population_OF_STATE)*100)\n",
    "    CMR.insert(END, str(CMR_CALCULATED))\n",
    "    CMR.configure(state='disabled')\n"
   ]
  },
  {
   "cell_type": "code",
   "execution_count": 13,
   "metadata": {},
   "outputs": [],
   "source": [
    "def Ifr():\n",
    "    Death=int(Deaths.get())\n",
    "    Confirmedcase=int(Confirmed.get())\n",
    "    IFR_CALCULATED= ((Death/Confirmedcase)*100)\n",
    "    IFR.insert(END, str(IFR_CALCULATED))\n",
    "    IFR.configure(state='disabled')"
   ]
  },
  {
   "cell_type": "code",
   "execution_count": null,
   "metadata": {},
   "outputs": [],
   "source": [
    "\n",
    "Deaths=Button(tkt, text='Deceased',bg=\"blue\",fg=\"white\",command=CALCULATE_DEATHS)\n",
    "Deaths.place(x=150, y=230)\n",
    "\n",
    "CMR=Button(tkt, text='CMR',bg=\"green\",fg=\"white\",command=Cmr)\n",
    "CMR.place(x=250, y=230)\n",
    "\n",
    "IFR=Button(tkt, text='IFR',bg=\"green\",fg=\"white\",command=Ifr)\n",
    "IFR.place(x=350, y=230)\n",
    "\n",
    "Deaths=Entry()\n",
    "Deaths.place(x=150, y=260,width=150,height=30)\n",
    "lbl6=Label(tkt, text=\"Deaths\", fg='black', font=(\"arial\", 16))\n",
    "lbl6.place(x=0, y=260)\n",
    "\n",
    "lbl6=Label(tkt, text=\"Confirmed-(active+recovered)\", fg='red', font=(\"arial\", 10))\n",
    "lbl6.place(x=400, y=260)\n",
    "\n",
    "CMR=Entry()\n",
    "CMR.place(x=150, y=330,width=150,height=30)\n",
    "lbl7=Label(tkt, text=\"CMR\", fg='black', font=(\"arial\", 16))\n",
    "lbl7.place(x=0, y=330)\n",
    "\n",
    "lbl7=Label(tkt, text=\"Deaths/population\", fg='red', font=(\"arial\", 10))\n",
    "lbl7.place(x=400, y=330)\n",
    "\n",
    "\n",
    "IFR=Entry()\n",
    "IFR.place(x=150, y=400,width=150,height=30)\n",
    "lbl7=Label(tkt, text=\"IFR\", fg='black', font=(\"arial\", 16))\n",
    "lbl7.place(x=0, y=400)\n",
    "\n",
    "lbl7=Label(tkt, text=\"Deaths/Confirmed\", fg='red', font=(\"arial\", 10))\n",
    "lbl7.place(x=400, y=400)\n",
    "tkt.mainloop()"
   ]
  },
  {
   "cell_type": "code",
   "execution_count": null,
   "metadata": {},
   "outputs": [],
   "source": []
  },
  {
   "cell_type": "code",
   "execution_count": null,
   "metadata": {},
   "outputs": [],
   "source": []
  }
 ],
 "metadata": {
  "kernelspec": {
   "display_name": "Python 3",
   "language": "python",
   "name": "python3"
  },
  "language_info": {
   "codemirror_mode": {
    "name": "ipython",
    "version": 3
   },
   "file_extension": ".py",
   "mimetype": "text/x-python",
   "name": "python",
   "nbconvert_exporter": "python",
   "pygments_lexer": "ipython3",
   "version": "3.7.6"
  }
 },
 "nbformat": 4,
 "nbformat_minor": 4
}
