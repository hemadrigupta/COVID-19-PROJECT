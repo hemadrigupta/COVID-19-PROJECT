{
 "cells": [
  {
   "cell_type": "code",
   "execution_count": null,
   "metadata": {},
   "outputs": [],
   "source": [
    "for i in range (1,3):\n",
    "    print('Pateint No.:{}'.format(i))\n",
    "    INPUT1=input('What is your name?')\n",
    "    INPUT2=int(input('What is your Age?'))\n",
    "    INPUT3=input('Do you have headache ?(Y/N)')\n",
    "    INPUT4=input('are u facing loss of smell and taste?(Y/N)')\n",
    "    INPUT5=input('do u have sore throat?(Y/N)')\n",
    "    INPUT6=input('Do you face chest pain or pressure?(Y/N)')\n",
    "    INPUT7=input('Do you face difficulty in breathing or shortness of breath?(Y/N)')\n",
    "    INPUT8=input('Do you face aches and pain?(Y/N)')\n",
    "    covid19()"
   ]
  },
  {
   "cell_type": "code",
   "execution_count": null,
   "metadata": {},
   "outputs": [],
   "source": [
    "def covid19():\n",
    "    if ((INPUT2>60) & (INPUT3=='y') & (INPUT4=='y') & (INPUT5=='y') & (INPUT6=='y') & (INPUT7=='y')):\n",
    "        print('u might have covid19!!!Rush to Doctor')\n",
    "    elif ((INPUT2<60) & (INPUT3=='y') & (INPUT8=='y') & (INPUT5=='y') & (INPUT6=='y')):\n",
    "        print('quarantine for 14 days ')\n",
    "    else:\n",
    "        print(\"u are well\")\n",
    "        print('NEXT')"
   ]
  },
  {
   "cell_type": "code",
   "execution_count": null,
   "metadata": {},
   "outputs": [],
   "source": [
    "for i in range (1,3):\n",
    "    print('Pateint No.:{}'.format(i))\n",
    "    INPUT1=input('What is your name?')\n",
    "    INPUT2=int(input('What is your Age?'))\n",
    "    INPUT3=input('Do you have headache ?(Y/N)')\n",
    "    INPUT4=input('are u facing loss of smell and taste?(Y/N)')\n",
    "    INPUT5=input('do u have sore throat?(Y/N)')\n",
    "    INPUT6=input('Do you face chest pain or pressure?(Y/N)')\n",
    "    INPUT7=input('Do you face difficulty in breathing or shortness of breath?(Y/N)')\n",
    "    INPUT8=input('Do you face aches and pain?(Y/N)')\n",
    "    covid19()"
   ]
  },
  {
   "cell_type": "code",
   "execution_count": null,
   "metadata": {},
   "outputs": [],
   "source": [
    "def covid19():\n",
    "    if ((INPUT2>60) & (INPUT3=='y') & (INPUT4=='y') & (INPUT5=='y') & (INPUT6=='y') & (INPUT7=='y')):\n",
    "        print('u might have covid19!!!Rush to Doctor')\n",
    "    elif ((INPUT2<60) & (INPUT3=='y') & (INPUT8=='y') & (INPUT5=='y') & (INPUT6=='y')):\n",
    "        print('quarantine for 14 days ')\n",
    "    else:\n",
    "        print(\"u are well\")\n",
    "        print('NEXT')"
   ]
  },
  {
   "cell_type": "code",
   "execution_count": null,
   "metadata": {},
   "outputs": [],
   "source": [
    "for i in range (1,3):\n",
    "    print('Pateint No.:{}'.format(i))\n",
    "    INPUT1=input('What is your name?')\n",
    "    INPUT2=int(input('What is your Age?'))\n",
    "    INPUT3=input('Do you have headache ?(Y/N)')\n",
    "    INPUT4=input('are u facing loss of smell and taste?(Y/N)')\n",
    "    INPUT5=input('do u have sore throat?(Y/N)')\n",
    "    INPUT6=input('Do you face chest pain or pressure?(Y/N)')\n",
    "    INPUT7=input('Do you face difficulty in breathing or shortness of breath?(Y/N)')\n",
    "    INPUT8=input('Do you face aches and pain?(Y/N)')\n",
    "    covid19()"
   ]
  },
  {
   "cell_type": "code",
   "execution_count": null,
   "metadata": {},
   "outputs": [],
   "source": []
  }
 ],
 "metadata": {
  "kernelspec": {
   "display_name": "Python 3",
   "language": "python",
   "name": "python3"
  },
  "language_info": {
   "codemirror_mode": {
    "name": "ipython",
    "version": 3
   },
   "file_extension": ".py",
   "mimetype": "text/x-python",
   "name": "python",
   "nbconvert_exporter": "python",
   "pygments_lexer": "ipython3",
   "version": "3.7.6"
  }
 },
 "nbformat": 4,
 "nbformat_minor": 4
}
